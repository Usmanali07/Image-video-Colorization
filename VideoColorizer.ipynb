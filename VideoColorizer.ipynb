{
 "cells": [
  {
   "cell_type": "code",
   "execution_count": 1,
   "metadata": {},
   "outputs": [
    {
     "data": {
      "text/plain": [
       "<DeviceId.GPU0: 0>"
      ]
     },
     "execution_count": 1,
     "metadata": {},
     "output_type": "execute_result"
    }
   ],
   "source": [
    "#NOTE:  This must be the first call in order to work properly!\n",
    "from deoldify import device\n",
    "from deoldify.device_id import DeviceId\n",
    "#choices:  CPU, GPU0...GPU7\n",
    "device.set(device=DeviceId.GPU0)"
   ]
  },
  {
   "cell_type": "code",
   "execution_count": 6,
   "metadata": {},
   "outputs": [
    {
     "name": "stdout",
     "output_type": "stream",
     "text": [
      "Requirement already satisfied: fastai in e:\\apps\\anaconda3\\envs\\deoldifyy\\lib\\site-packages (2.5.3)\n",
      "Requirement already satisfied: pyyaml in e:\\apps\\anaconda3\\envs\\deoldifyy\\lib\\site-packages (from fastai) (6.0)\n",
      "Requirement already satisfied: matplotlib in e:\\apps\\anaconda3\\envs\\deoldifyy\\lib\\site-packages (from fastai) (3.5.1)\n",
      "Requirement already satisfied: requests in e:\\apps\\anaconda3\\envs\\deoldifyy\\lib\\site-packages (from fastai) (2.27.1)\n",
      "Requirement already satisfied: packaging in e:\\apps\\anaconda3\\envs\\deoldifyy\\lib\\site-packages (from fastai) (21.3)\n",
      "Requirement already satisfied: scipy in e:\\apps\\anaconda3\\envs\\deoldifyy\\lib\\site-packages (from fastai) (1.7.3)\n",
      "Requirement already satisfied: pillow>6.0.0 in e:\\apps\\anaconda3\\envs\\deoldifyy\\lib\\site-packages (from fastai) (9.0.0)\n",
      "Requirement already satisfied: pandas in e:\\apps\\anaconda3\\envs\\deoldifyy\\lib\\site-packages (from fastai) (1.4.0)\n",
      "Requirement already satisfied: spacy<4 in e:\\apps\\anaconda3\\envs\\deoldifyy\\lib\\site-packages (from fastai) (3.2.1)\n",
      "Requirement already satisfied: torchvision>=0.8.2 in e:\\apps\\anaconda3\\envs\\deoldifyy\\lib\\site-packages (from fastai) (0.11.2)\n",
      "Requirement already satisfied: scikit-learn in e:\\apps\\anaconda3\\envs\\deoldifyy\\lib\\site-packages (from fastai) (1.0.2)\n",
      "Requirement already satisfied: torch<1.11,>=1.7.0 in e:\\apps\\anaconda3\\envs\\deoldifyy\\lib\\site-packages (from fastai) (1.10.1)\n",
      "Requirement already satisfied: fastdownload<2,>=0.0.5 in e:\\apps\\anaconda3\\envs\\deoldifyy\\lib\\site-packages (from fastai) (0.0.5)\n",
      "Requirement already satisfied: fastcore<1.4,>=1.3.22 in e:\\apps\\anaconda3\\envs\\deoldifyy\\lib\\site-packages (from fastai) (1.3.27)\n",
      "Requirement already satisfied: pip in e:\\apps\\anaconda3\\envs\\deoldifyy\\lib\\site-packages (from fastai) (21.2.4)\n",
      "Requirement already satisfied: fastprogress>=0.2.4 in e:\\apps\\anaconda3\\envs\\deoldifyy\\lib\\site-packages (from fastai) (1.0.0)\n",
      "Requirement already satisfied: numpy in e:\\apps\\anaconda3\\envs\\deoldifyy\\lib\\site-packages (from fastprogress>=0.2.4->fastai) (1.22.1)\n",
      "Requirement already satisfied: typer<0.5.0,>=0.3.0 in e:\\apps\\anaconda3\\envs\\deoldifyy\\lib\\site-packages (from spacy<4->fastai) (0.4.0)\n",
      "Requirement already satisfied: tqdm<5.0.0,>=4.38.0 in e:\\apps\\anaconda3\\envs\\deoldifyy\\lib\\site-packages (from spacy<4->fastai) (4.62.3)\n",
      "Requirement already satisfied: spacy-loggers<2.0.0,>=1.0.0 in e:\\apps\\anaconda3\\envs\\deoldifyy\\lib\\site-packages (from spacy<4->fastai) (1.0.1)\n",
      "Requirement already satisfied: blis<0.8.0,>=0.4.0 in e:\\apps\\anaconda3\\envs\\deoldifyy\\lib\\site-packages (from spacy<4->fastai) (0.7.5)\n",
      "Requirement already satisfied: spacy-legacy<3.1.0,>=3.0.8 in e:\\apps\\anaconda3\\envs\\deoldifyy\\lib\\site-packages (from spacy<4->fastai) (3.0.8)\n",
      "Requirement already satisfied: pydantic!=1.8,!=1.8.1,<1.9.0,>=1.7.4 in e:\\apps\\anaconda3\\envs\\deoldifyy\\lib\\site-packages (from spacy<4->fastai) (1.8.2)\n",
      "Requirement already satisfied: wasabi<1.1.0,>=0.8.1 in e:\\apps\\anaconda3\\envs\\deoldifyy\\lib\\site-packages (from spacy<4->fastai) (0.9.0)\n",
      "Requirement already satisfied: pathy>=0.3.5 in e:\\apps\\anaconda3\\envs\\deoldifyy\\lib\\site-packages (from spacy<4->fastai) (0.6.1)\n",
      "Requirement already satisfied: thinc<8.1.0,>=8.0.12 in e:\\apps\\anaconda3\\envs\\deoldifyy\\lib\\site-packages (from spacy<4->fastai) (8.0.13)\n",
      "Requirement already satisfied: cymem<2.1.0,>=2.0.2 in e:\\apps\\anaconda3\\envs\\deoldifyy\\lib\\site-packages (from spacy<4->fastai) (2.0.6)\n",
      "Requirement already satisfied: murmurhash<1.1.0,>=0.28.0 in e:\\apps\\anaconda3\\envs\\deoldifyy\\lib\\site-packages (from spacy<4->fastai) (1.0.6)\n",
      "Requirement already satisfied: srsly<3.0.0,>=2.4.1 in e:\\apps\\anaconda3\\envs\\deoldifyy\\lib\\site-packages (from spacy<4->fastai) (2.4.2)\n",
      "Requirement already satisfied: preshed<3.1.0,>=3.0.2 in e:\\apps\\anaconda3\\envs\\deoldifyy\\lib\\site-packages (from spacy<4->fastai) (3.0.6)\n",
      "Requirement already satisfied: setuptools in e:\\apps\\anaconda3\\envs\\deoldifyy\\lib\\site-packages (from spacy<4->fastai) (58.0.4)\n",
      "Requirement already satisfied: langcodes<4.0.0,>=3.2.0 in e:\\apps\\anaconda3\\envs\\deoldifyy\\lib\\site-packages (from spacy<4->fastai) (3.3.0)\n",
      "Requirement already satisfied: jinja2 in e:\\apps\\anaconda3\\envs\\deoldifyy\\lib\\site-packages (from spacy<4->fastai) (3.0.3)\n",
      "Requirement already satisfied: catalogue<2.1.0,>=2.0.6 in e:\\apps\\anaconda3\\envs\\deoldifyy\\lib\\site-packages (from spacy<4->fastai) (2.0.6)\n",
      "Requirement already satisfied: pyparsing!=3.0.5,>=2.0.2 in e:\\apps\\anaconda3\\envs\\deoldifyy\\lib\\site-packages (from packaging->fastai) (3.0.7)\n",
      "Requirement already satisfied: smart-open<6.0.0,>=5.0.0 in e:\\apps\\anaconda3\\envs\\deoldifyy\\lib\\site-packages (from pathy>=0.3.5->spacy<4->fastai) (5.2.1)\n",
      "Requirement already satisfied: typing-extensions>=3.7.4.3 in e:\\apps\\anaconda3\\envs\\deoldifyy\\lib\\site-packages (from pydantic!=1.8,!=1.8.1,<1.9.0,>=1.7.4->spacy<4->fastai) (4.0.1)\n",
      "Requirement already satisfied: charset-normalizer~=2.0.0 in e:\\apps\\anaconda3\\envs\\deoldifyy\\lib\\site-packages (from requests->fastai) (2.0.10)\n",
      "Requirement already satisfied: urllib3<1.27,>=1.21.1 in e:\\apps\\anaconda3\\envs\\deoldifyy\\lib\\site-packages (from requests->fastai) (1.26.8)\n",
      "Requirement already satisfied: certifi>=2017.4.17 in e:\\apps\\anaconda3\\envs\\deoldifyy\\lib\\site-packages (from requests->fastai) (2021.10.8)\n",
      "Requirement already satisfied: idna<4,>=2.5 in e:\\apps\\anaconda3\\envs\\deoldifyy\\lib\\site-packages (from requests->fastai) (3.3)\n",
      "Requirement already satisfied: colorama in e:\\apps\\anaconda3\\envs\\deoldifyy\\lib\\site-packages (from tqdm<5.0.0,>=4.38.0->spacy<4->fastai) (0.4.4)\n",
      "Requirement already satisfied: click<9.0.0,>=7.1.1 in e:\\apps\\anaconda3\\envs\\deoldifyy\\lib\\site-packages (from typer<0.5.0,>=0.3.0->spacy<4->fastai) (8.0.3)\n",
      "Requirement already satisfied: MarkupSafe>=2.0 in e:\\apps\\anaconda3\\envs\\deoldifyy\\lib\\site-packages (from jinja2->spacy<4->fastai) (2.0.1)\n",
      "Requirement already satisfied: cycler>=0.10 in e:\\apps\\anaconda3\\envs\\deoldifyy\\lib\\site-packages (from matplotlib->fastai) (0.11.0)\n",
      "Requirement already satisfied: kiwisolver>=1.0.1 in e:\\apps\\anaconda3\\envs\\deoldifyy\\lib\\site-packages (from matplotlib->fastai) (1.3.2)\n",
      "Requirement already satisfied: fonttools>=4.22.0 in e:\\apps\\anaconda3\\envs\\deoldifyy\\lib\\site-packages (from matplotlib->fastai) (4.29.0)\n",
      "Requirement already satisfied: python-dateutil>=2.7 in e:\\apps\\anaconda3\\envs\\deoldifyy\\lib\\site-packages (from matplotlib->fastai) (2.8.2)\n",
      "Requirement already satisfied: six>=1.5 in e:\\apps\\anaconda3\\envs\\deoldifyy\\lib\\site-packages (from python-dateutil>=2.7->matplotlib->fastai) (1.16.0)\n",
      "Requirement already satisfied: pytz>=2020.1 in e:\\apps\\anaconda3\\envs\\deoldifyy\\lib\\site-packages (from pandas->fastai) (2021.3)\n",
      "Requirement already satisfied: threadpoolctl>=2.0.0 in e:\\apps\\anaconda3\\envs\\deoldifyy\\lib\\site-packages (from scikit-learn->fastai) (3.0.0)\n",
      "Requirement already satisfied: joblib>=0.11 in e:\\apps\\anaconda3\\envs\\deoldifyy\\lib\\site-packages (from scikit-learn->fastai) (1.1.0)\n"
     ]
    },
    {
     "ename": "ModuleNotFoundError",
     "evalue": "No module named 'fastai'",
     "output_type": "error",
     "traceback": [
      "\u001b[1;31m---------------------------------------------------------------------------\u001b[0m",
      "\u001b[1;31mModuleNotFoundError\u001b[0m                       Traceback (most recent call last)",
      "\u001b[1;32m~\\AppData\\Local\\Temp/ipykernel_12144/589405197.py\u001b[0m in \u001b[0;36m<module>\u001b[1;34m\u001b[0m\n\u001b[0;32m      1\u001b[0m \u001b[0mget_ipython\u001b[0m\u001b[1;33m(\u001b[0m\u001b[1;33m)\u001b[0m\u001b[1;33m.\u001b[0m\u001b[0msystem\u001b[0m\u001b[1;33m(\u001b[0m\u001b[1;34m'pip install fastai'\u001b[0m\u001b[1;33m)\u001b[0m\u001b[1;33m\u001b[0m\u001b[1;33m\u001b[0m\u001b[0m\n\u001b[1;32m----> 2\u001b[1;33m \u001b[1;32mfrom\u001b[0m \u001b[0mdeoldify\u001b[0m\u001b[1;33m.\u001b[0m\u001b[0mvisualize\u001b[0m \u001b[1;32mimport\u001b[0m \u001b[1;33m*\u001b[0m\u001b[1;33m\u001b[0m\u001b[1;33m\u001b[0m\u001b[0m\n\u001b[0m\u001b[0;32m      3\u001b[0m \u001b[0mplt\u001b[0m\u001b[1;33m.\u001b[0m\u001b[0mstyle\u001b[0m\u001b[1;33m.\u001b[0m\u001b[0muse\u001b[0m\u001b[1;33m(\u001b[0m\u001b[1;34m'dark_background'\u001b[0m\u001b[1;33m)\u001b[0m\u001b[1;33m\u001b[0m\u001b[1;33m\u001b[0m\u001b[0m\n\u001b[0;32m      4\u001b[0m \u001b[1;32mimport\u001b[0m \u001b[0mwarnings\u001b[0m\u001b[1;33m\u001b[0m\u001b[1;33m\u001b[0m\u001b[0m\n\u001b[0;32m      5\u001b[0m \u001b[0mwarnings\u001b[0m\u001b[1;33m.\u001b[0m\u001b[0mfilterwarnings\u001b[0m\u001b[1;33m(\u001b[0m\u001b[1;34m\"ignore\"\u001b[0m\u001b[1;33m,\u001b[0m \u001b[0mcategory\u001b[0m\u001b[1;33m=\u001b[0m\u001b[0mUserWarning\u001b[0m\u001b[1;33m,\u001b[0m \u001b[0mmessage\u001b[0m\u001b[1;33m=\u001b[0m\u001b[1;34m\".*?Your .*? set is empty.*?\"\u001b[0m\u001b[1;33m)\u001b[0m\u001b[1;33m\u001b[0m\u001b[1;33m\u001b[0m\u001b[0m\n",
      "\u001b[1;32mE:\\DeOldify-master\\deoldify\\visualize.py\u001b[0m in \u001b[0;36m<module>\u001b[1;34m\u001b[0m\n\u001b[1;32m----> 1\u001b[1;33m \u001b[1;32mfrom\u001b[0m \u001b[0mfastai\u001b[0m\u001b[1;33m.\u001b[0m\u001b[0mcore\u001b[0m \u001b[1;32mimport\u001b[0m \u001b[1;33m*\u001b[0m\u001b[1;33m\u001b[0m\u001b[1;33m\u001b[0m\u001b[0m\n\u001b[0m\u001b[0;32m      2\u001b[0m \u001b[1;32mfrom\u001b[0m \u001b[0mfastai\u001b[0m\u001b[1;33m.\u001b[0m\u001b[0mvision\u001b[0m \u001b[1;32mimport\u001b[0m \u001b[1;33m*\u001b[0m\u001b[1;33m\u001b[0m\u001b[1;33m\u001b[0m\u001b[0m\n\u001b[0;32m      3\u001b[0m \u001b[1;32mfrom\u001b[0m \u001b[0mmatplotlib\u001b[0m\u001b[1;33m.\u001b[0m\u001b[0maxes\u001b[0m \u001b[1;32mimport\u001b[0m \u001b[0mAxes\u001b[0m\u001b[1;33m\u001b[0m\u001b[1;33m\u001b[0m\u001b[0m\n\u001b[0;32m      4\u001b[0m \u001b[1;32mfrom\u001b[0m \u001b[1;33m.\u001b[0m\u001b[0mfilters\u001b[0m \u001b[1;32mimport\u001b[0m \u001b[0mIFilter\u001b[0m\u001b[1;33m,\u001b[0m \u001b[0mMasterFilter\u001b[0m\u001b[1;33m,\u001b[0m \u001b[0mColorizerFilter\u001b[0m\u001b[1;33m\u001b[0m\u001b[1;33m\u001b[0m\u001b[0m\n\u001b[0;32m      5\u001b[0m \u001b[1;32mfrom\u001b[0m \u001b[1;33m.\u001b[0m\u001b[0mgenerators\u001b[0m \u001b[1;32mimport\u001b[0m \u001b[0mgen_inference_deep\u001b[0m\u001b[1;33m,\u001b[0m \u001b[0mgen_inference_wide\u001b[0m\u001b[1;33m\u001b[0m\u001b[1;33m\u001b[0m\u001b[0m\n",
      "\u001b[1;31mModuleNotFoundError\u001b[0m: No module named 'fastai'"
     ]
    }
   ],
   "source": [
    "!pip install fastai\n",
    "from deoldify.visualize import *\n",
    "plt.style.use('dark_background')\n",
    "import warnings\n",
    "warnings.filterwarnings(\"ignore\", category=UserWarning, message=\".*?Your .*? set is empty.*?\")"
   ]
  },
  {
   "cell_type": "code",
   "execution_count": null,
   "metadata": {},
   "outputs": [],
   "source": [
    "colorizer = get_video_colorizer()"
   ]
  },
  {
   "cell_type": "markdown",
   "metadata": {},
   "source": [
    "# Instructions\n",
    "\n",
    "### source_url\n",
    "Type in a url hosting a video from YouTube, Imgur, Twitter, Reddit, Vimeo, etc.  Many sources work!  GIFs also work.  Full list here: https://ytdl-org.github.io/youtube-dl/supportedsites.html NOTE: If you want to use your own video, you can set source_url to None and just upload the file to video/source/ in Jupyter.  Just make sure that the file_name parameter matches the file you uploaded.\n",
    "\n",
    "\n",
    "### file_name\n",
    "Name this whatever sensible file name you want (minus extension)! It should actually exist in video/source if source_url=None\n",
    "\n",
    "\n",
    "### render_factor\n",
    "The default value of 21 has been carefully chosen and should work -ok- for most scenarios (but probably won't be the -best-). This determines resolution at which the color portion of the video is rendered. Lower resolution will render faster, and colors also tend to look more vibrant. Older and lower quality film in particular will generally benefit by lowering the render factor. Higher render factors are often better for higher quality videos and inconsistencies (flashy render) will generally be reduced, but the colors may get slightly washed out. \n",
    "\n",
    "\n",
    "### file_name_ext\n",
    "There's no reason to changes this.\n",
    "\n",
    "\n",
    "### result_path\n",
    "Ditto- don't change.\n",
    "\n",
    "\n",
    "### How to Download a Copy\n",
    "Simply shift+right click on the displayed video and click \"Save video as...\"!\n",
    "\n",
    "\n",
    "## Pro Tips\n",
    "1. If a video takes a long time to render and you're wondering how well the frames will actually be colorized, you can preview how well the frames will be rendered at each render_factor by using the code at the bottom. Just stop the video rendering by hitting the stop button on the cell, then run that bottom cell under \"See how well render_factor values perform on a frame here\". It's not perfect and you may still need to experiment a bit especially when it comes to figuring out how to reduce frame inconsistency.  But it'll go a long way in narrowing down what actually works.\n",
    "\n",
    "\n",
    "## Troubleshooting\n",
    "The video player may wind up not showing up, in which case- make sure to wait for the Jupyter cell to complete processing first (the play button will stop spinning).  Then follow these alternative download instructions\n",
    "\n",
    "1. In the menu to the left, click Home icon.\n",
    "2. By default, rendered video will be in /video/result/\n",
    "\n",
    "If a video you downloaded doesn't play, it's probably because the cell didn't complete processing and the video is in a half-finished state.\n",
    "If you get a 'CUDA out of memory' error, you probably have the render_factor too high.  The max is 44 on 11GB video cards."
   ]
  },
  {
   "cell_type": "markdown",
   "metadata": {},
   "source": [
    "## Colorize!!"
   ]
  },
  {
   "cell_type": "code",
   "execution_count": null,
   "metadata": {},
   "outputs": [],
   "source": [
    "#NOTE:  Max is 44 with 11GB video cards.  21 is a good default\n",
    "render_factor=21\n",
    "#NOTE:  Make source_url None to just read from file at ./video/source/[file_name] directly without modification\n",
    "# source_url='https://twitter.com/silentmoviegifs/status/1116751583386034176'\n",
    "file_name = 'DogShy1926'\n",
    "file_name_ext = file_name + '.mp4'\n",
    "result_path = None\n",
    "\n",
    "if source_url is not None:\n",
    "    result_path = colorizer.colorize_from_url(source_url, file_name_ext, render_factor=render_factor)\n",
    "else:\n",
    "    result_path = colorizer.colorize_from_file_name(file_name_ext, render_factor=render_factor)\n",
    "\n",
    "show_video_in_notebook(result_path)"
   ]
  },
  {
   "cell_type": "markdown",
   "metadata": {},
   "source": [
    "## See how well render_factor values perform on a frame here"
   ]
  },
  {
   "cell_type": "code",
   "execution_count": null,
   "metadata": {},
   "outputs": [],
   "source": [
    "for i in range(10,45,2):\n",
    "    colorizer.vis.plot_transformed_image('video/bwframes/' + file_name + '/00001.jpg', render_factor=i, display_render_factor=True, figsize=(8,8))"
   ]
  },
  {
   "cell_type": "code",
   "execution_count": null,
   "metadata": {},
   "outputs": [],
   "source": []
  }
 ],
 "metadata": {
  "kernelspec": {
   "display_name": "Python 3 (ipykernel)",
   "language": "python",
   "name": "python3"
  },
  "language_info": {
   "codemirror_mode": {
    "name": "ipython",
    "version": 3
   },
   "file_extension": ".py",
   "mimetype": "text/x-python",
   "name": "python",
   "nbconvert_exporter": "python",
   "pygments_lexer": "ipython3",
   "version": "3.9.7"
  },
  "toc": {
   "colors": {
    "hover_highlight": "#DAA520",
    "navigate_num": "#000000",
    "navigate_text": "#333333",
    "running_highlight": "#FF0000",
    "selected_highlight": "#FFD700",
    "sidebar_border": "#EEEEEE",
    "wrapper_background": "#FFFFFF"
   },
   "moveMenuLeft": true,
   "nav_menu": {
    "height": "67px",
    "width": "252px"
   },
   "navigate_menu": true,
   "number_sections": true,
   "sideBar": true,
   "threshold": 4,
   "toc_cell": false,
   "toc_section_display": "block",
   "toc_window_display": false,
   "widenNotebook": false
  }
 },
 "nbformat": 4,
 "nbformat_minor": 4
}
